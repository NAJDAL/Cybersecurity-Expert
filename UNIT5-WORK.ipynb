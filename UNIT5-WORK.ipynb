{
  "metadata": {
    "language_info": {
      "codemirror_mode": {
        "name": "python",
        "version": 3
      },
      "file_extension": ".py",
      "mimetype": "text/x-python",
      "name": "python",
      "nbconvert_exporter": "python",
      "pygments_lexer": "ipython3",
      "version": "3.8"
    },
    "kernelspec": {
      "name": "python",
      "display_name": "Python (Pyodide)",
      "language": "python"
    }
  },
  "nbformat_minor": 4,
  "nbformat": 4,
  "cells": [
    {
      "cell_type": "markdown",
      "source": "Unit 5",
      "metadata": {}
    },
    {
      "cell_type": "markdown",
      "source": "Part 1\n\nEncapsulate the following Python code from Section 7.5 in a function named my_sqrt that takes a as a parameter, chooses a starting value for x, and returns an estimate of the square root of a. \n\nwhile True:\n     y = (x + a/x) / 2.0\n     if y == x:\n          break\n     x = y \n\n",
      "metadata": {}
    },
    {
      "cell_type": "code",
      "source": "def my_sqrt(a):\n    \"\"\"\n    Estimate the square root of a number using the Babylonian method.\n\n    Parameters:\n        a (float): The number for which the square root is to be estimated.\n\n    Returns:\n        float: An estimate of the square root of the given number.\n    \"\"\"\n    x = a / 2.0  # Choose a reasonable starting value for x\n\n    while True:\n        # Update the estimate of the square root using the Babylonian method\n        y = (x + a / x) / 2.0\n\n        # Check if the estimate has converged to a stable value\n        if y == x:\n            break\n\n        # Update x with the new estimate\n        x = y\n\n    return x",
      "metadata": {
        "trusted": true
      },
      "execution_count": 1,
      "outputs": []
    },
    {
      "cell_type": "markdown",
      "source": "Explanation:\n\nThe function `my_sqrt` takes a single parameter `a`, which represents the number for which we want to estimate the square root. The function uses the Babylonian method to iteratively improve the estimate of the square root until a certain level of precision is achieved.\n\nInside the function, we choose a reasonable starting value for `x` by dividing `a` by 2.0. This is a commonly used initial guess that often leads to faster convergence.\n\nWe then enter a `while` loop that continues indefinitely until the condition `y == x` is met. This condition checks if the new estimate `y` is equal to the previous estimate `x`, indicating that the estimate has converged to a stable value.\n\nWithin each iteration of the loop, we update the estimate of the square root using the equation `(x + a / x) / 2.0`. This equation is derived from the Babylonian method, which involves taking the average of `x` and `a / x` to get a better estimate.\n\nAfter the loop terminates, we return the final estimate of the square root `x`.\n\n\nAn example usage and the output:\n",
      "metadata": {}
    },
    {
      "cell_type": "code",
      "source": "# Example usage\nnumber = 16.0\nestimated_sqrt = my_sqrt(number)\nprint(\"Estimated square root of\", number, \"is:\", estimated_sqrt)",
      "metadata": {
        "trusted": true
      },
      "execution_count": 3,
      "outputs": [
        {
          "name": "stdout",
          "text": "Estimated square root of 16.0 is: 4.0\n",
          "output_type": "stream"
        }
      ]
    },
    {
      "cell_type": "markdown",
      "source": "In this example, we use the `my_sqrt` function to estimate the square root of the number 16. The function returns an estimated square root of 4.0, which is the correct value for the square root of 16.\n\nReference\n\"Python for Everyone\" by Charles Severance. Section 7.5 of the book covers the topic of Newton's method for finding square roots.\n",
      "metadata": {}
    },
    {
      "cell_type": "markdown",
      "source": "part 2 \n",
      "metadata": {}
    },
    {
      "cell_type": "code",
      "source": "import math\n\ndef my_sqrt(a):\n    x = a\n    while True:\n        y = (x + a / x) / 2\n        if abs(y - x) < 1e-14:\n            return y\n        x = y\n\ndef test_sqrt():\n    with open('output.txt', 'w') as file:\n        file.write(\"a      | my_sqrt(a)         | math.sqrt(a)       | diff\\n\")\n        file.write(\"----------------------------------------------------\\n\")\n        a = 1\n        while a <= 25:\n            my_sqrt_result = my_sqrt(a)\n            math_sqrt_result = math.sqrt(a)\n            diff = abs(my_sqrt_result - math_sqrt_result)\n            file.write(f\"{a:<6} | {my_sqrt_result:<18} | {math_sqrt_result:<18} | {diff:<18}\\n\")\n            a += 1\n\ntest_sqrt()\n",
      "metadata": {
        "trusted": true
      },
      "execution_count": 6,
      "outputs": []
    },
    {
      "cell_type": "markdown",
      "source": "This code includes the `my_sqrt` function that takes a single argument and includes the required `while` loop. It initializes `x` and returns its final value. \n\nThe `test_sqrt` function prints `a` values from 1 to 25, along with the values returned by `my_sqrt` and `math.sqrt` for each value of `a`. It also calculates and prints the absolute value of the differences between `my_sqrt` and `math.sqrt` for each value of `a`.\n\nThe `my_sqrt` function computes values that are almost identical to `math.sqrt` with a difference (`diff`) less than `1e-14`.",
      "metadata": {}
    },
    {
      "cell_type": "markdown",
      "source": "`output.txt` file:",
      "metadata": {}
    },
    {
      "cell_type": "markdown",
      "source": "a      | my_sqrt(a)         | math.sqrt(a)       | diff\n----------------------------------------------------\n1      | 1.0                | 1.0                | 0.0               \n2      | 1.4142135623730951 | 1.4142135623730951 | 2.220446049250313e-16\n3      | 1.7320508075688772 | 1.7320508075688772 | 0.0               \n4      | 2.0                | 2.0                | 0.0               \n5      | 2.23606797749979   | 2.23606797749979   | 0.0               \n6      | 2.449489742783178  | 2.449489742783178  | 0.0               \n7      | 2.6457513110645907 | 2.6457513110645907 | 0.0               \n8      | 2.8284271247461903 | 2.8284271247461903 | 4.44089209850063e-16\n9      | 3.0                | 3.0                | 0.0               \n10     | 3.1622776601683795 | 3.1622776601683795 | 0.0               \n11     | 3.3166247903554    | 3.3166247903554    | 0.0               \n12     | 3.4641016151377544 | 3.4641016151377544 | 0.0               \n13     | 3.605551275463989  | 3.605551275463989  | 0.0               \n14     | 3.7416573867739413 | 3.7416573867739413 | 0.0               \n15     | 3.872983346207417  | 3.872983346207417  | 0.0               \n16     | 4.0                | 4.0                | 0.0               \n17     | 4.123105625617661  | 4.123105625617661  | 0.0               \n18     | 4.242640687119285  | 4.242640687119285  | 0.0               \n19     | 4.358898943540674  | 4.358898943540674  | 0.0               \n20     | 4.47213595499958   | 4.47213595499958   | 0.0               \n21     | 4.58257569495584   | 4.58257569495584   | 0.0               \n22     | 4.69041575982343   | 4.69041575982343   | 0.0               \n23     | 4.795831523312719  | 4.795831523312719  | 0.0               \n24     | 4.898979485566356  | 4.898979485566356  | 0.0               \n25     | 5.0                | 5.0                | 0.0               \n",
      "metadata": {}
    }
  ]
}